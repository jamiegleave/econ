{
 "cells": [
  {
   "cell_type": "code",
   "execution_count": null,
   "metadata": {},
   "outputs": [],
   "source": [
    "import requests\n",
    "import pandas as pd\n",
    "\n",
    "# Set the API endpoint and parameters\n",
    "base_url = \"http://api.worldbank.org/v2/country/all/indicator/BX.KLT.DINV.WD.GD.ZS\"\n",
    "params = {\n",
    "    \"format\": \"json\",  # JSON format\n",
    "    \"per_page\": 10000,  # High limit to get all data at once\n",
    "    \"date\": \"1980:2022\"  # Date range from 2000 to 2022\n",
    "}\n",
    "\n",
    "# Make the request to the World Bank API\n",
    "response = requests.get(base_url, params=params)\n",
    "\n",
    "# Check if the request was successful\n",
    "if response.status_code == 200:\n",
    "    # The response comes in two parts: metadata and data\n",
    "    data = response.json()[1]  # Extract only the data part\n",
    "    \n",
    "    # Convert the data to a DataFrame for easier analysis\n",
    "    df = pd.DataFrame(data)\n",
    "    \n",
    "    # Display the first few rows of the data\n",
    "    print(df.head())\n",
    "else:\n",
    "    print(\"Failed to retrieve data:\", response.status_code)"
   ]
  }
 ],
 "metadata": {
  "kernelspec": {
   "display_name": "base",
   "language": "python",
   "name": "python3"
  },
  "language_info": {
   "codemirror_mode": {
    "name": "ipython",
    "version": 3
   },
   "file_extension": ".py",
   "mimetype": "text/x-python",
   "name": "python",
   "nbconvert_exporter": "python",
   "pygments_lexer": "ipython3",
   "version": "3.12.7"
  }
 },
 "nbformat": 4,
 "nbformat_minor": 2
}
