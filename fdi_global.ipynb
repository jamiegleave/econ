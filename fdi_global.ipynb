{
 "cells": [
  {
   "cell_type": "code",
   "execution_count": 2,
   "metadata": {},
   "outputs": [
    {
     "name": "stdout",
     "output_type": "stream",
     "text": [
      "                                           indicator  \\\n",
      "0  {'id': 'BX.KLT.DINV.WD.GD.ZS', 'value': 'Forei...   \n",
      "1  {'id': 'BX.KLT.DINV.WD.GD.ZS', 'value': 'Forei...   \n",
      "2  {'id': 'BX.KLT.DINV.WD.GD.ZS', 'value': 'Forei...   \n",
      "3  {'id': 'BX.KLT.DINV.WD.GD.ZS', 'value': 'Forei...   \n",
      "4  {'id': 'BX.KLT.DINV.WD.GD.ZS', 'value': 'Forei...   \n",
      "\n",
      "                                             country countryiso3code  date  \\\n",
      "0  {'id': 'ZH', 'value': 'Africa Eastern and Sout...             AFE  2022   \n",
      "1  {'id': 'ZH', 'value': 'Africa Eastern and Sout...             AFE  2021   \n",
      "2  {'id': 'ZH', 'value': 'Africa Eastern and Sout...             AFE  2020   \n",
      "3  {'id': 'ZH', 'value': 'Africa Eastern and Sout...             AFE  2019   \n",
      "4  {'id': 'ZH', 'value': 'Africa Eastern and Sout...             AFE  2018   \n",
      "\n",
      "      value unit obs_status  decimal  \n",
      "0  1.748597                        1  \n",
      "1  5.039673                        1  \n",
      "2  1.482811                        1  \n",
      "3  1.500133                        1  \n",
      "4  1.338311                        1  \n"
     ]
    }
   ],
   "source": [
    "import requests\n",
    "import pandas as pd\n",
    "\n",
    "# Set the API endpoint and parameters\n",
    "base_url = \"http://api.worldbank.org/v2/country/all/indicator/BX.KLT.DINV.WD.GD.ZS\"\n",
    "params = {\n",
    "    \"format\": \"json\",  # JSON format\n",
    "    \"per_page\": 10000,  # High limit to get all data at once\n",
    "    \"date\": \"1980:2022\"  # Date range from 2000 to 2022\n",
    "}\n",
    "\n",
    "# Make the request to the World Bank API\n",
    "response = requests.get(base_url, params=params)\n",
    "\n",
    "# Check if the request was successful\n",
    "if response.status_code == 200:\n",
    "    # The response comes in two parts: metadata and data\n",
    "    data = response.json()[1]  # Extract only the data part\n",
    "    \n",
    "    # Convert the data to a DataFrame for easier analysis\n",
    "    df = pd.DataFrame(data)\n",
    "    \n",
    "    # Display the first few rows of the data\n",
    "    print(df.head())\n",
    "else:\n",
    "    print(\"Failed to retrieve data:\", response.status_code)"
   ]
  }
 ],
 "metadata": {
  "kernelspec": {
   "display_name": "base",
   "language": "python",
   "name": "python3"
  },
  "language_info": {
   "codemirror_mode": {
    "name": "ipython",
    "version": 3
   },
   "file_extension": ".py",
   "mimetype": "text/x-python",
   "name": "python",
   "nbconvert_exporter": "python",
   "pygments_lexer": "ipython3",
   "version": "3.12.7"
  }
 },
 "nbformat": 4,
 "nbformat_minor": 2
}
