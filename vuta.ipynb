{
 "cells": [
  {
   "cell_type": "code",
   "execution_count": 11,
   "metadata": {},
   "outputs": [],
   "source": [
    "import glob\n",
    "import os\n",
    "import numpy as np\n",
    "import pandas as pd\n",
    "import plotly.express as px\n",
    "from datetime import datetime\n",
    "\n",
    "from corp_bond_modules import get_corporate_bond_holdings\n",
    "from corp_bond_modules import weighted_quantile"
   ]
  },
  {
   "cell_type": "markdown",
   "metadata": {},
   "source": [
    "VUTA"
   ]
  },
  {
   "cell_type": "code",
   "execution_count": null,
   "metadata": {},
   "outputs": [
    {
     "name": "stdout",
     "output_type": "stream",
     "text": [
      "Initializing Chrome webdriver...\n",
      "Navigating to https://www.vanguard.co.uk/professional/product/etf/bond/9598/usd-treasury-bond-ucits-etf-usd-accumulating...\n"
     ]
    }
   ],
   "source": [
    "url = \"https://www.vanguard.co.uk/professional/product/etf/bond/9598/usd-treasury-bond-ucits-etf-usd-accumulating\"\n",
    "path = \"./VUTA\"\n",
    "\n",
    "get_corporate_bond_holdings(url,os.path.abspath(path))"
   ]
  },
  {
   "cell_type": "code",
   "execution_count": null,
   "metadata": {},
   "outputs": [],
   "source": [
    "path = \"./VUTA\"\n",
    "path += \"/*\"\n",
    "\n",
    "target_cols = ['Ticker', 'Holding', 'Market_Val_Percent', 'Market_Val_USD', \n",
    "        'Face_Val_USD', 'Coupon_Percent', 'Maturity_Date']\n",
    "\n",
    "expected_cols = ['Ticker','Holding name','% of market value',\n",
    "                 'Market value','Face amount','Coupon/Yield','Maturity date']\n",
    "\n",
    "cols = dict(zip(expected_cols,target_cols))\n",
    "\n",
    "dateparse = lambda x: datetime.strptime(x, '%d %b %Y')\n",
    "\n",
    "df = pd.read_excel(max(glob.glob(path), key=os.path.getctime),\n",
    "    skiprows=6)[:-2].rename(columns=cols)\n",
    "\n",
    "df['Market_Val_Percent'] = df['Market_Val_Percent'].apply(lambda x: float(x.replace('%', '')))\n",
    "df['Market_Val_USD'] = df['Market_Val_USD'].apply(lambda x: float(str(x).replace('US$', '').replace(',', '')))\n",
    "df['Face_Val_USD']=df['Face_Val_USD'].apply(lambda x: float(str(x).replace(',', '')))\n",
    "df['Coupon_Percent']=df['Coupon_Percent'].apply(lambda x: float(str(x).replace('%', '')))\n",
    "df['Maturity_Date']=df['Maturity_Date'].apply(lambda x: pd.to_datetime(x,format='%d %b %Y'))\n",
    "df['Maturity_Years_FromNow']=df['Maturity_Date'].apply(lambda x:(x-datetime.today()).days/365.25 if x.year > datetime.now().year else 0)\n",
    "df['AnnExpectCoupon_NomUSD'] = df['Face_Val_USD']*df['Coupon_Percent']/100\n",
    "\n",
    "year_bins = (\n",
    "    np.pad(weighted_quantile(df['Maturity_Years_FromNow'],quantiles=[0.25,0.5,0.75],sample_weight=df['Market_Val_Percent']), \n",
    "           (1, 1), mode='constant', \n",
    "           constant_values=(0, int(np.ceil(df['Maturity_Years_FromNow'].max())))\n",
    "           )\n",
    ")\n",
    "\n",
    "df['Year_Category']=pd.cut(df['Maturity_Years_FromNow'],bins=year_bins)"
   ]
  },
  {
   "cell_type": "code",
   "execution_count": null,
   "metadata": {},
   "outputs": [
    {
     "data": {
      "text/html": [
       "<div>\n",
       "<style scoped>\n",
       "    .dataframe tbody tr th:only-of-type {\n",
       "        vertical-align: middle;\n",
       "    }\n",
       "\n",
       "    .dataframe tbody tr th {\n",
       "        vertical-align: top;\n",
       "    }\n",
       "\n",
       "    .dataframe thead th {\n",
       "        text-align: right;\n",
       "    }\n",
       "</style>\n",
       "<table border=\"1\" class=\"dataframe\">\n",
       "  <thead>\n",
       "    <tr style=\"text-align: right;\">\n",
       "      <th></th>\n",
       "      <th>Ticker</th>\n",
       "      <th>Holding</th>\n",
       "      <th>Market_Val_Percent</th>\n",
       "      <th>Market_Val_USD</th>\n",
       "      <th>Face_Val_USD</th>\n",
       "      <th>Coupon_Percent</th>\n",
       "      <th>Maturity_Date</th>\n",
       "      <th>Maturity_Years_FromNow</th>\n",
       "      <th>AnnExpectCoupon_NomUSD</th>\n",
       "      <th>Year_Category</th>\n",
       "    </tr>\n",
       "  </thead>\n",
       "  <tbody>\n",
       "    <tr>\n",
       "      <th>0</th>\n",
       "      <td>T</td>\n",
       "      <td>United States Treasury Note/Bond</td>\n",
       "      <td>0.9964</td>\n",
       "      <td>25318471.08</td>\n",
       "      <td>25872300.0</td>\n",
       "      <td>4.00</td>\n",
       "      <td>2034-02-15</td>\n",
       "      <td>9.223819</td>\n",
       "      <td>1034892.00</td>\n",
       "      <td>(8.54, 30.0]</td>\n",
       "    </tr>\n",
       "    <tr>\n",
       "      <th>1</th>\n",
       "      <td>T</td>\n",
       "      <td>United States Treasury Note/Bond</td>\n",
       "      <td>0.9897</td>\n",
       "      <td>25149344.06</td>\n",
       "      <td>24966000.0</td>\n",
       "      <td>4.38</td>\n",
       "      <td>2034-05-15</td>\n",
       "      <td>9.467488</td>\n",
       "      <td>1093510.80</td>\n",
       "      <td>(8.54, 30.0]</td>\n",
       "    </tr>\n",
       "    <tr>\n",
       "      <th>2</th>\n",
       "      <td>T</td>\n",
       "      <td>United States Treasury Note/Bond</td>\n",
       "      <td>0.9858</td>\n",
       "      <td>25049190.31</td>\n",
       "      <td>24633500.0</td>\n",
       "      <td>4.50</td>\n",
       "      <td>2033-11-15</td>\n",
       "      <td>8.971937</td>\n",
       "      <td>1108507.50</td>\n",
       "      <td>(8.54, 30.0]</td>\n",
       "    </tr>\n",
       "    <tr>\n",
       "      <th>3</th>\n",
       "      <td>T</td>\n",
       "      <td>United States Treasury Note/Bond</td>\n",
       "      <td>0.9037</td>\n",
       "      <td>22964526.38</td>\n",
       "      <td>23644300.0</td>\n",
       "      <td>3.88</td>\n",
       "      <td>2033-08-15</td>\n",
       "      <td>8.720055</td>\n",
       "      <td>917398.84</td>\n",
       "      <td>(8.54, 30.0]</td>\n",
       "    </tr>\n",
       "    <tr>\n",
       "      <th>4</th>\n",
       "      <td>T</td>\n",
       "      <td>United States Treasury Note/Bond</td>\n",
       "      <td>0.8835</td>\n",
       "      <td>22450837.50</td>\n",
       "      <td>23205000.0</td>\n",
       "      <td>3.88</td>\n",
       "      <td>2034-08-15</td>\n",
       "      <td>9.719370</td>\n",
       "      <td>900354.00</td>\n",
       "      <td>(8.54, 30.0]</td>\n",
       "    </tr>\n",
       "    <tr>\n",
       "      <th>...</th>\n",
       "      <td>...</td>\n",
       "      <td>...</td>\n",
       "      <td>...</td>\n",
       "      <td>...</td>\n",
       "      <td>...</td>\n",
       "      <td>...</td>\n",
       "      <td>...</td>\n",
       "      <td>...</td>\n",
       "      <td>...</td>\n",
       "      <td>...</td>\n",
       "    </tr>\n",
       "    <tr>\n",
       "      <th>284</th>\n",
       "      <td>T</td>\n",
       "      <td>United States Treasury Note/Bond</td>\n",
       "      <td>0.0011</td>\n",
       "      <td>27672.56</td>\n",
       "      <td>26400.0</td>\n",
       "      <td>6.50</td>\n",
       "      <td>2026-11-15</td>\n",
       "      <td>1.971253</td>\n",
       "      <td>1716.00</td>\n",
       "      <td>(0.0, 2.344]</td>\n",
       "    </tr>\n",
       "    <tr>\n",
       "      <th>285</th>\n",
       "      <td>T</td>\n",
       "      <td>United States Treasury Note/Bond</td>\n",
       "      <td>0.0010</td>\n",
       "      <td>25496.09</td>\n",
       "      <td>24400.0</td>\n",
       "      <td>5.25</td>\n",
       "      <td>2029-02-15</td>\n",
       "      <td>4.224504</td>\n",
       "      <td>1281.00</td>\n",
       "      <td>(2.344, 4.345]</td>\n",
       "    </tr>\n",
       "    <tr>\n",
       "      <th>286</th>\n",
       "      <td>T</td>\n",
       "      <td>United States Treasury Note/Bond</td>\n",
       "      <td>0.0004</td>\n",
       "      <td>8875.78</td>\n",
       "      <td>8400.0</td>\n",
       "      <td>6.63</td>\n",
       "      <td>2027-02-15</td>\n",
       "      <td>2.223135</td>\n",
       "      <td>556.92</td>\n",
       "      <td>(0.0, 2.344]</td>\n",
       "    </tr>\n",
       "    <tr>\n",
       "      <th>287</th>\n",
       "      <td>T</td>\n",
       "      <td>United States Treasury Note/Bond</td>\n",
       "      <td>0.0003</td>\n",
       "      <td>6714.50</td>\n",
       "      <td>6400.0</td>\n",
       "      <td>5.50</td>\n",
       "      <td>2028-08-15</td>\n",
       "      <td>3.720739</td>\n",
       "      <td>352.00</td>\n",
       "      <td>(2.344, 4.345]</td>\n",
       "    </tr>\n",
       "    <tr>\n",
       "      <th>288</th>\n",
       "      <td>T</td>\n",
       "      <td>United States Treasury Note/Bond</td>\n",
       "      <td>0.0000</td>\n",
       "      <td>422.25</td>\n",
       "      <td>400.0</td>\n",
       "      <td>6.13</td>\n",
       "      <td>2027-11-15</td>\n",
       "      <td>2.970568</td>\n",
       "      <td>24.52</td>\n",
       "      <td>(2.344, 4.345]</td>\n",
       "    </tr>\n",
       "  </tbody>\n",
       "</table>\n",
       "<p>289 rows × 10 columns</p>\n",
       "</div>"
      ],
      "text/plain": [
       "    Ticker                           Holding  Market_Val_Percent  \\\n",
       "0        T  United States Treasury Note/Bond              0.9964   \n",
       "1        T  United States Treasury Note/Bond              0.9897   \n",
       "2        T  United States Treasury Note/Bond              0.9858   \n",
       "3        T  United States Treasury Note/Bond              0.9037   \n",
       "4        T  United States Treasury Note/Bond              0.8835   \n",
       "..     ...                               ...                 ...   \n",
       "284      T  United States Treasury Note/Bond              0.0011   \n",
       "285      T  United States Treasury Note/Bond              0.0010   \n",
       "286      T  United States Treasury Note/Bond              0.0004   \n",
       "287      T  United States Treasury Note/Bond              0.0003   \n",
       "288      T  United States Treasury Note/Bond              0.0000   \n",
       "\n",
       "     Market_Val_USD  Face_Val_USD  Coupon_Percent Maturity_Date  \\\n",
       "0       25318471.08    25872300.0            4.00    2034-02-15   \n",
       "1       25149344.06    24966000.0            4.38    2034-05-15   \n",
       "2       25049190.31    24633500.0            4.50    2033-11-15   \n",
       "3       22964526.38    23644300.0            3.88    2033-08-15   \n",
       "4       22450837.50    23205000.0            3.88    2034-08-15   \n",
       "..              ...           ...             ...           ...   \n",
       "284        27672.56       26400.0            6.50    2026-11-15   \n",
       "285        25496.09       24400.0            5.25    2029-02-15   \n",
       "286         8875.78        8400.0            6.63    2027-02-15   \n",
       "287         6714.50        6400.0            5.50    2028-08-15   \n",
       "288          422.25         400.0            6.13    2027-11-15   \n",
       "\n",
       "     Maturity_Years_FromNow  AnnExpectCoupon_NomUSD   Year_Category  \n",
       "0                  9.223819              1034892.00    (8.54, 30.0]  \n",
       "1                  9.467488              1093510.80    (8.54, 30.0]  \n",
       "2                  8.971937              1108507.50    (8.54, 30.0]  \n",
       "3                  8.720055               917398.84    (8.54, 30.0]  \n",
       "4                  9.719370               900354.00    (8.54, 30.0]  \n",
       "..                      ...                     ...             ...  \n",
       "284                1.971253                 1716.00    (0.0, 2.344]  \n",
       "285                4.224504                 1281.00  (2.344, 4.345]  \n",
       "286                2.223135                  556.92    (0.0, 2.344]  \n",
       "287                3.720739                  352.00  (2.344, 4.345]  \n",
       "288                2.970568                   24.52  (2.344, 4.345]  \n",
       "\n",
       "[289 rows x 10 columns]"
      ]
     },
     "execution_count": 4,
     "metadata": {},
     "output_type": "execute_result"
    }
   ],
   "source": [
    "df"
   ]
  },
  {
   "cell_type": "code",
   "execution_count": null,
   "metadata": {},
   "outputs": [
    {
     "data": {
      "application/vnd.plotly.v1+json": {
       "config": {
        "plotlyServerURL": "https://plot.ly"
       },
       "data": [
        {
         "alignmentgroup": "True",
         "bingroup": "x",
         "histfunc": "sum",
         "hovertemplate": "Year_Category=(8.54, 30.0]<br>Coupon_Percent=%{x}<br>sum of Market_Val_Percent=%{y}<extra></extra>",
         "legendgroup": "(8.54, 30.0]",
         "marker": {
          "color": "#636efa",
          "opacity": 0.5,
          "pattern": {
           "shape": ""
          }
         },
         "name": "(8.54, 30.0]",
         "nbinsx": 50,
         "offsetgroup": "(8.54, 30.0]",
         "orientation": "v",
         "showlegend": true,
         "type": "histogram",
         "x": [
          4,
          4.38,
          4.5,
          3.88,
          3.88,
          4.63,
          4.75,
          4.25,
          4.25,
          4.13,
          1.75,
          1.88,
          4,
          2,
          2.38,
          3.63,
          3.63,
          2,
          2.88,
          2.38,
          2.25,
          3,
          1.88,
          2.25,
          4.38,
          4.75,
          1.88,
          4.63,
          4.5,
          3.38,
          4.13,
          3,
          1.38,
          3.25,
          1.63,
          3.88,
          2.88,
          3.88,
          3.38,
          4,
          1.38,
          3,
          3.13,
          2,
          1.13,
          2.25,
          3,
          1.25,
          2.38,
          1.13,
          2.75,
          2.88,
          2.75,
          3.13,
          3,
          2.5,
          2.25,
          3.75,
          3.63,
          3.63,
          3,
          2.5,
          2.5,
          2.75,
          3.13,
          3,
          3.38,
          2.88,
          2.75,
          4.63,
          4.5,
          4.75,
          4.38,
          4.38,
          3,
          3.13,
          3.88,
          4.25,
          3,
          2.88,
          4.38,
          3,
          3.75,
          3.13,
          4.25,
          4.5,
          5,
          4.38,
          4.75,
          4.5,
          3.5
         ],
         "xaxis": "x",
         "y": [
          0.9964,
          0.9897,
          0.9858,
          0.9037,
          0.8835,
          0.5675,
          0.549,
          0.5335,
          0.5095,
          0.4846,
          0.4285,
          0.4176,
          0.4173,
          0.4075,
          0.4017,
          0.4016,
          0.4012,
          0.3605,
          0.3589,
          0.3574,
          0.3537,
          0.3523,
          0.349,
          0.3435,
          0.3318,
          0.3274,
          0.327,
          0.3239,
          0.318,
          0.3176,
          0.3173,
          0.3125,
          0.3041,
          0.3001,
          0.2903,
          0.2882,
          0.2865,
          0.2861,
          0.2762,
          0.2743,
          0.2723,
          0.2695,
          0.2624,
          0.2439,
          0.2358,
          0.2335,
          0.2298,
          0.2293,
          0.2249,
          0.2061,
          0.1914,
          0.1912,
          0.1864,
          0.1825,
          0.1781,
          0.1761,
          0.1757,
          0.1707,
          0.1679,
          0.1604,
          0.1527,
          0.148,
          0.1405,
          0.1369,
          0.1351,
          0.1343,
          0.1324,
          0.1232,
          0.101,
          0.1008,
          0.1007,
          0.0995,
          0.097,
          0.0913,
          0.0911,
          0.0891,
          0.089,
          0.0887,
          0.0798,
          0.0768,
          0.0764,
          0.0714,
          0.0697,
          0.0662,
          0.0638,
          0.0593,
          0.0421,
          0.0401,
          0.0293,
          0.0266,
          0.0265
         ],
         "yaxis": "y"
        },
        {
         "alignmentgroup": "True",
         "bingroup": "x",
         "histfunc": "sum",
         "hovertemplate": "Year_Category=(4.345, 8.54]<br>Coupon_Percent=%{x}<br>sum of Market_Val_Percent=%{y}<extra></extra>",
         "legendgroup": "(4.345, 8.54]",
         "marker": {
          "color": "#EF553B",
          "opacity": 0.5,
          "pattern": {
           "shape": ""
          }
         },
         "name": "(4.345, 8.54]",
         "nbinsx": 50,
         "offsetgroup": "(4.345, 8.54]",
         "orientation": "v",
         "showlegend": true,
         "type": "histogram",
         "x": [
          4.13,
          3.5,
          3.38,
          1.25,
          2.88,
          1.38,
          1.88,
          2.75,
          1.63,
          0.63,
          0.88,
          1.13,
          0.63,
          4.13,
          4.63,
          4.25,
          3.63,
          4,
          3.5,
          4.5,
          4.13,
          1.5,
          2.88,
          4.63,
          4.63,
          2.38,
          4.13,
          4.25,
          2.38,
          4.13,
          3.75,
          3.63,
          2.75,
          4.25,
          4,
          3.25,
          4.38,
          3.75,
          4.88,
          4.63,
          3.75,
          1.63,
          2.63,
          3.13,
          4.13,
          3.88,
          4,
          3.5,
          4,
          4,
          3.5,
          3.75,
          3.63,
          3.88,
          3.88,
          4.13,
          1.75,
          6.25,
          6.13,
          5.38
         ],
         "xaxis": "x",
         "y": [
          0.8118,
          0.7609,
          0.7603,
          0.7566,
          0.7563,
          0.7494,
          0.7281,
          0.7256,
          0.7232,
          0.6981,
          0.681,
          0.6675,
          0.6524,
          0.5622,
          0.5567,
          0.5527,
          0.5498,
          0.5489,
          0.5471,
          0.533,
          0.5239,
          0.4106,
          0.3769,
          0.3615,
          0.3614,
          0.3607,
          0.3562,
          0.3558,
          0.3553,
          0.3526,
          0.3437,
          0.3434,
          0.3432,
          0.3425,
          0.3264,
          0.3228,
          0.3148,
          0.3131,
          0.3111,
          0.3096,
          0.3083,
          0.3014,
          0.299,
          0.297,
          0.2859,
          0.2845,
          0.2839,
          0.2794,
          0.2747,
          0.2725,
          0.2721,
          0.2693,
          0.2677,
          0.24,
          0.2337,
          0.2191,
          0.1804,
          0.0765,
          0.0578,
          0.0392
         ],
         "yaxis": "y"
        },
        {
         "alignmentgroup": "True",
         "bingroup": "x",
         "histfunc": "sum",
         "hovertemplate": "Year_Category=(0.0, 2.344]<br>Coupon_Percent=%{x}<br>sum of Market_Val_Percent=%{y}<extra></extra>",
         "legendgroup": "(0.0, 2.344]",
         "marker": {
          "color": "#00cc96",
          "opacity": 0.5,
          "pattern": {
           "shape": ""
          }
         },
         "name": "(0.0, 2.344]",
         "nbinsx": 50,
         "offsetgroup": "(0.0, 2.344]",
         "orientation": "v",
         "showlegend": true,
         "type": "histogram",
         "x": [
          0.75,
          3.5,
          4.88,
          4.88,
          4.63,
          1.5,
          4.63,
          4.38,
          0.5,
          4.5,
          4.13,
          2.25,
          3.75,
          0.75,
          4.88,
          1.88,
          1.13,
          1.63,
          0.75,
          4.25,
          0.75,
          0.63,
          1.25,
          0.38,
          4.13,
          0.88,
          4.25,
          0.88,
          4.25,
          0.38,
          4.63,
          1.63,
          1.5,
          2.25,
          1.25,
          2.5,
          4,
          3.75,
          0.38,
          4.38,
          4.63,
          4.5,
          4.63,
          2,
          4,
          3.63,
          4.13,
          4.63,
          2.5,
          4.38,
          2.38,
          3.88,
          2.25,
          1.38,
          1.88,
          4,
          0.63,
          1.63,
          1.63,
          2.63,
          2.88,
          2.13,
          1.13,
          2.63,
          1.75,
          4.5,
          1.88,
          1.63,
          4.25,
          6,
          6.5,
          6.63
         ],
         "xaxis": "x",
         "y": [
          0.7807,
          0.6841,
          0.5899,
          0.5747,
          0.5519,
          0.5517,
          0.5438,
          0.5407,
          0.5397,
          0.5342,
          0.5024,
          0.4857,
          0.4767,
          0.4671,
          0.4634,
          0.4576,
          0.4501,
          0.4484,
          0.4465,
          0.4356,
          0.4348,
          0.4321,
          0.4304,
          0.4261,
          0.416,
          0.4129,
          0.409,
          0.4057,
          0.4022,
          0.3971,
          0.3934,
          0.3902,
          0.3891,
          0.3855,
          0.385,
          0.3677,
          0.3673,
          0.3538,
          0.3476,
          0.3471,
          0.3248,
          0.3184,
          0.317,
          0.3142,
          0.3111,
          0.3098,
          0.2986,
          0.2887,
          0.287,
          0.283,
          0.2747,
          0.2726,
          0.2576,
          0.2503,
          0.2263,
          0.2247,
          0.2221,
          0.2214,
          0.1971,
          0.1846,
          0.1837,
          0.1661,
          0.1651,
          0.1575,
          0.1445,
          0.1263,
          0.0952,
          0.0836,
          0.0113,
          0.008,
          0.0011,
          0.0004
         ],
         "yaxis": "y"
        },
        {
         "alignmentgroup": "True",
         "bingroup": "x",
         "histfunc": "sum",
         "hovertemplate": "Year_Category=(2.344, 4.345]<br>Coupon_Percent=%{x}<br>sum of Market_Val_Percent=%{y}<extra></extra>",
         "legendgroup": "(2.344, 4.345]",
         "marker": {
          "color": "#ab63fa",
          "opacity": 0.5,
          "pattern": {
           "shape": ""
          }
         },
         "name": "(2.344, 4.345]",
         "nbinsx": 50,
         "offsetgroup": "(2.344, 4.345]",
         "orientation": "v",
         "showlegend": true,
         "type": "histogram",
         "x": [
          1.25,
          2.88,
          2.75,
          1.13,
          1.13,
          1,
          2.38,
          4.25,
          2.88,
          0.75,
          4.38,
          4,
          3.13,
          1.25,
          2.63,
          1.25,
          1.25,
          0.63,
          0.5,
          3.75,
          4.5,
          4.5,
          4.63,
          1.5,
          4.38,
          1.25,
          1.38,
          1.75,
          4.88,
          2.25,
          1.38,
          3.75,
          1.88,
          2.63,
          3.38,
          3.63,
          4.63,
          2.75,
          2.75,
          3.25,
          4.13,
          0.63,
          4.38,
          0.5,
          2.25,
          3.88,
          4,
          0.38,
          3.88,
          4.13,
          4,
          3.63,
          0.5,
          3.5,
          3.5,
          3.13,
          0.38,
          3.88,
          0.5,
          4.13,
          0.5,
          5.25,
          6.38,
          5.25,
          5.5,
          6.13
         ],
         "xaxis": "x",
         "y": [
          0.714,
          0.5498,
          0.5103,
          0.5043,
          0.5042,
          0.5039,
          0.5012,
          0.4984,
          0.4955,
          0.4902,
          0.472,
          0.4684,
          0.4663,
          0.4661,
          0.4649,
          0.463,
          0.4627,
          0.4455,
          0.4438,
          0.4363,
          0.4316,
          0.4305,
          0.4231,
          0.4227,
          0.4165,
          0.4128,
          0.4056,
          0.4022,
          0.395,
          0.3936,
          0.3867,
          0.3822,
          0.3816,
          0.3804,
          0.3777,
          0.3727,
          0.3694,
          0.3616,
          0.3515,
          0.3465,
          0.3437,
          0.3344,
          0.3343,
          0.3298,
          0.325,
          0.3242,
          0.3211,
          0.3208,
          0.3207,
          0.3202,
          0.3169,
          0.3163,
          0.3125,
          0.312,
          0.3118,
          0.2967,
          0.2926,
          0.2824,
          0.2804,
          0.2626,
          0.256,
          0.0614,
          0.002,
          0.001,
          0.0003,
          0
         ],
         "yaxis": "y"
        }
       ],
       "layout": {
        "barmode": "overlay",
        "legend": {
         "title": {
          "text": "Year_Category"
         },
         "tracegroupgap": 0
        },
        "margin": {
         "t": 60
        },
        "template": {
         "data": {
          "bar": [
           {
            "error_x": {
             "color": "#2a3f5f"
            },
            "error_y": {
             "color": "#2a3f5f"
            },
            "marker": {
             "line": {
              "color": "#E5ECF6",
              "width": 0.5
             },
             "pattern": {
              "fillmode": "overlay",
              "size": 10,
              "solidity": 0.2
             }
            },
            "type": "bar"
           }
          ],
          "barpolar": [
           {
            "marker": {
             "line": {
              "color": "#E5ECF6",
              "width": 0.5
             },
             "pattern": {
              "fillmode": "overlay",
              "size": 10,
              "solidity": 0.2
             }
            },
            "type": "barpolar"
           }
          ],
          "carpet": [
           {
            "aaxis": {
             "endlinecolor": "#2a3f5f",
             "gridcolor": "white",
             "linecolor": "white",
             "minorgridcolor": "white",
             "startlinecolor": "#2a3f5f"
            },
            "baxis": {
             "endlinecolor": "#2a3f5f",
             "gridcolor": "white",
             "linecolor": "white",
             "minorgridcolor": "white",
             "startlinecolor": "#2a3f5f"
            },
            "type": "carpet"
           }
          ],
          "choropleth": [
           {
            "colorbar": {
             "outlinewidth": 0,
             "ticks": ""
            },
            "type": "choropleth"
           }
          ],
          "contour": [
           {
            "colorbar": {
             "outlinewidth": 0,
             "ticks": ""
            },
            "colorscale": [
             [
              0,
              "#0d0887"
             ],
             [
              0.1111111111111111,
              "#46039f"
             ],
             [
              0.2222222222222222,
              "#7201a8"
             ],
             [
              0.3333333333333333,
              "#9c179e"
             ],
             [
              0.4444444444444444,
              "#bd3786"
             ],
             [
              0.5555555555555556,
              "#d8576b"
             ],
             [
              0.6666666666666666,
              "#ed7953"
             ],
             [
              0.7777777777777778,
              "#fb9f3a"
             ],
             [
              0.8888888888888888,
              "#fdca26"
             ],
             [
              1,
              "#f0f921"
             ]
            ],
            "type": "contour"
           }
          ],
          "contourcarpet": [
           {
            "colorbar": {
             "outlinewidth": 0,
             "ticks": ""
            },
            "type": "contourcarpet"
           }
          ],
          "heatmap": [
           {
            "colorbar": {
             "outlinewidth": 0,
             "ticks": ""
            },
            "colorscale": [
             [
              0,
              "#0d0887"
             ],
             [
              0.1111111111111111,
              "#46039f"
             ],
             [
              0.2222222222222222,
              "#7201a8"
             ],
             [
              0.3333333333333333,
              "#9c179e"
             ],
             [
              0.4444444444444444,
              "#bd3786"
             ],
             [
              0.5555555555555556,
              "#d8576b"
             ],
             [
              0.6666666666666666,
              "#ed7953"
             ],
             [
              0.7777777777777778,
              "#fb9f3a"
             ],
             [
              0.8888888888888888,
              "#fdca26"
             ],
             [
              1,
              "#f0f921"
             ]
            ],
            "type": "heatmap"
           }
          ],
          "heatmapgl": [
           {
            "colorbar": {
             "outlinewidth": 0,
             "ticks": ""
            },
            "colorscale": [
             [
              0,
              "#0d0887"
             ],
             [
              0.1111111111111111,
              "#46039f"
             ],
             [
              0.2222222222222222,
              "#7201a8"
             ],
             [
              0.3333333333333333,
              "#9c179e"
             ],
             [
              0.4444444444444444,
              "#bd3786"
             ],
             [
              0.5555555555555556,
              "#d8576b"
             ],
             [
              0.6666666666666666,
              "#ed7953"
             ],
             [
              0.7777777777777778,
              "#fb9f3a"
             ],
             [
              0.8888888888888888,
              "#fdca26"
             ],
             [
              1,
              "#f0f921"
             ]
            ],
            "type": "heatmapgl"
           }
          ],
          "histogram": [
           {
            "marker": {
             "pattern": {
              "fillmode": "overlay",
              "size": 10,
              "solidity": 0.2
             }
            },
            "type": "histogram"
           }
          ],
          "histogram2d": [
           {
            "colorbar": {
             "outlinewidth": 0,
             "ticks": ""
            },
            "colorscale": [
             [
              0,
              "#0d0887"
             ],
             [
              0.1111111111111111,
              "#46039f"
             ],
             [
              0.2222222222222222,
              "#7201a8"
             ],
             [
              0.3333333333333333,
              "#9c179e"
             ],
             [
              0.4444444444444444,
              "#bd3786"
             ],
             [
              0.5555555555555556,
              "#d8576b"
             ],
             [
              0.6666666666666666,
              "#ed7953"
             ],
             [
              0.7777777777777778,
              "#fb9f3a"
             ],
             [
              0.8888888888888888,
              "#fdca26"
             ],
             [
              1,
              "#f0f921"
             ]
            ],
            "type": "histogram2d"
           }
          ],
          "histogram2dcontour": [
           {
            "colorbar": {
             "outlinewidth": 0,
             "ticks": ""
            },
            "colorscale": [
             [
              0,
              "#0d0887"
             ],
             [
              0.1111111111111111,
              "#46039f"
             ],
             [
              0.2222222222222222,
              "#7201a8"
             ],
             [
              0.3333333333333333,
              "#9c179e"
             ],
             [
              0.4444444444444444,
              "#bd3786"
             ],
             [
              0.5555555555555556,
              "#d8576b"
             ],
             [
              0.6666666666666666,
              "#ed7953"
             ],
             [
              0.7777777777777778,
              "#fb9f3a"
             ],
             [
              0.8888888888888888,
              "#fdca26"
             ],
             [
              1,
              "#f0f921"
             ]
            ],
            "type": "histogram2dcontour"
           }
          ],
          "mesh3d": [
           {
            "colorbar": {
             "outlinewidth": 0,
             "ticks": ""
            },
            "type": "mesh3d"
           }
          ],
          "parcoords": [
           {
            "line": {
             "colorbar": {
              "outlinewidth": 0,
              "ticks": ""
             }
            },
            "type": "parcoords"
           }
          ],
          "pie": [
           {
            "automargin": true,
            "type": "pie"
           }
          ],
          "scatter": [
           {
            "fillpattern": {
             "fillmode": "overlay",
             "size": 10,
             "solidity": 0.2
            },
            "type": "scatter"
           }
          ],
          "scatter3d": [
           {
            "line": {
             "colorbar": {
              "outlinewidth": 0,
              "ticks": ""
             }
            },
            "marker": {
             "colorbar": {
              "outlinewidth": 0,
              "ticks": ""
             }
            },
            "type": "scatter3d"
           }
          ],
          "scattercarpet": [
           {
            "marker": {
             "colorbar": {
              "outlinewidth": 0,
              "ticks": ""
             }
            },
            "type": "scattercarpet"
           }
          ],
          "scattergeo": [
           {
            "marker": {
             "colorbar": {
              "outlinewidth": 0,
              "ticks": ""
             }
            },
            "type": "scattergeo"
           }
          ],
          "scattergl": [
           {
            "marker": {
             "colorbar": {
              "outlinewidth": 0,
              "ticks": ""
             }
            },
            "type": "scattergl"
           }
          ],
          "scattermapbox": [
           {
            "marker": {
             "colorbar": {
              "outlinewidth": 0,
              "ticks": ""
             }
            },
            "type": "scattermapbox"
           }
          ],
          "scatterpolar": [
           {
            "marker": {
             "colorbar": {
              "outlinewidth": 0,
              "ticks": ""
             }
            },
            "type": "scatterpolar"
           }
          ],
          "scatterpolargl": [
           {
            "marker": {
             "colorbar": {
              "outlinewidth": 0,
              "ticks": ""
             }
            },
            "type": "scatterpolargl"
           }
          ],
          "scatterternary": [
           {
            "marker": {
             "colorbar": {
              "outlinewidth": 0,
              "ticks": ""
             }
            },
            "type": "scatterternary"
           }
          ],
          "surface": [
           {
            "colorbar": {
             "outlinewidth": 0,
             "ticks": ""
            },
            "colorscale": [
             [
              0,
              "#0d0887"
             ],
             [
              0.1111111111111111,
              "#46039f"
             ],
             [
              0.2222222222222222,
              "#7201a8"
             ],
             [
              0.3333333333333333,
              "#9c179e"
             ],
             [
              0.4444444444444444,
              "#bd3786"
             ],
             [
              0.5555555555555556,
              "#d8576b"
             ],
             [
              0.6666666666666666,
              "#ed7953"
             ],
             [
              0.7777777777777778,
              "#fb9f3a"
             ],
             [
              0.8888888888888888,
              "#fdca26"
             ],
             [
              1,
              "#f0f921"
             ]
            ],
            "type": "surface"
           }
          ],
          "table": [
           {
            "cells": {
             "fill": {
              "color": "#EBF0F8"
             },
             "line": {
              "color": "white"
             }
            },
            "header": {
             "fill": {
              "color": "#C8D4E3"
             },
             "line": {
              "color": "white"
             }
            },
            "type": "table"
           }
          ]
         },
         "layout": {
          "annotationdefaults": {
           "arrowcolor": "#2a3f5f",
           "arrowhead": 0,
           "arrowwidth": 1
          },
          "autotypenumbers": "strict",
          "coloraxis": {
           "colorbar": {
            "outlinewidth": 0,
            "ticks": ""
           }
          },
          "colorscale": {
           "diverging": [
            [
             0,
             "#8e0152"
            ],
            [
             0.1,
             "#c51b7d"
            ],
            [
             0.2,
             "#de77ae"
            ],
            [
             0.3,
             "#f1b6da"
            ],
            [
             0.4,
             "#fde0ef"
            ],
            [
             0.5,
             "#f7f7f7"
            ],
            [
             0.6,
             "#e6f5d0"
            ],
            [
             0.7,
             "#b8e186"
            ],
            [
             0.8,
             "#7fbc41"
            ],
            [
             0.9,
             "#4d9221"
            ],
            [
             1,
             "#276419"
            ]
           ],
           "sequential": [
            [
             0,
             "#0d0887"
            ],
            [
             0.1111111111111111,
             "#46039f"
            ],
            [
             0.2222222222222222,
             "#7201a8"
            ],
            [
             0.3333333333333333,
             "#9c179e"
            ],
            [
             0.4444444444444444,
             "#bd3786"
            ],
            [
             0.5555555555555556,
             "#d8576b"
            ],
            [
             0.6666666666666666,
             "#ed7953"
            ],
            [
             0.7777777777777778,
             "#fb9f3a"
            ],
            [
             0.8888888888888888,
             "#fdca26"
            ],
            [
             1,
             "#f0f921"
            ]
           ],
           "sequentialminus": [
            [
             0,
             "#0d0887"
            ],
            [
             0.1111111111111111,
             "#46039f"
            ],
            [
             0.2222222222222222,
             "#7201a8"
            ],
            [
             0.3333333333333333,
             "#9c179e"
            ],
            [
             0.4444444444444444,
             "#bd3786"
            ],
            [
             0.5555555555555556,
             "#d8576b"
            ],
            [
             0.6666666666666666,
             "#ed7953"
            ],
            [
             0.7777777777777778,
             "#fb9f3a"
            ],
            [
             0.8888888888888888,
             "#fdca26"
            ],
            [
             1,
             "#f0f921"
            ]
           ]
          },
          "colorway": [
           "#636efa",
           "#EF553B",
           "#00cc96",
           "#ab63fa",
           "#FFA15A",
           "#19d3f3",
           "#FF6692",
           "#B6E880",
           "#FF97FF",
           "#FECB52"
          ],
          "font": {
           "color": "#2a3f5f"
          },
          "geo": {
           "bgcolor": "white",
           "lakecolor": "white",
           "landcolor": "#E5ECF6",
           "showlakes": true,
           "showland": true,
           "subunitcolor": "white"
          },
          "hoverlabel": {
           "align": "left"
          },
          "hovermode": "closest",
          "mapbox": {
           "style": "light"
          },
          "paper_bgcolor": "white",
          "plot_bgcolor": "#E5ECF6",
          "polar": {
           "angularaxis": {
            "gridcolor": "white",
            "linecolor": "white",
            "ticks": ""
           },
           "bgcolor": "#E5ECF6",
           "radialaxis": {
            "gridcolor": "white",
            "linecolor": "white",
            "ticks": ""
           }
          },
          "scene": {
           "xaxis": {
            "backgroundcolor": "#E5ECF6",
            "gridcolor": "white",
            "gridwidth": 2,
            "linecolor": "white",
            "showbackground": true,
            "ticks": "",
            "zerolinecolor": "white"
           },
           "yaxis": {
            "backgroundcolor": "#E5ECF6",
            "gridcolor": "white",
            "gridwidth": 2,
            "linecolor": "white",
            "showbackground": true,
            "ticks": "",
            "zerolinecolor": "white"
           },
           "zaxis": {
            "backgroundcolor": "#E5ECF6",
            "gridcolor": "white",
            "gridwidth": 2,
            "linecolor": "white",
            "showbackground": true,
            "ticks": "",
            "zerolinecolor": "white"
           }
          },
          "shapedefaults": {
           "line": {
            "color": "#2a3f5f"
           }
          },
          "ternary": {
           "aaxis": {
            "gridcolor": "white",
            "linecolor": "white",
            "ticks": ""
           },
           "baxis": {
            "gridcolor": "white",
            "linecolor": "white",
            "ticks": ""
           },
           "bgcolor": "#E5ECF6",
           "caxis": {
            "gridcolor": "white",
            "linecolor": "white",
            "ticks": ""
           }
          },
          "title": {
           "x": 0.05
          },
          "xaxis": {
           "automargin": true,
           "gridcolor": "white",
           "linecolor": "white",
           "ticks": "",
           "title": {
            "standoff": 15
           },
           "zerolinecolor": "white",
           "zerolinewidth": 2
          },
          "yaxis": {
           "automargin": true,
           "gridcolor": "white",
           "linecolor": "white",
           "ticks": "",
           "title": {
            "standoff": 15
           },
           "zerolinecolor": "white",
           "zerolinewidth": 2
          }
         }
        },
        "xaxis": {
         "anchor": "y",
         "domain": [
          0,
          1
         ],
         "title": {
          "text": "Coupon_Percent"
         }
        },
        "yaxis": {
         "anchor": "x",
         "domain": [
          0,
          1
         ],
         "title": {
          "text": "sum of Market_Val_Percent"
         }
        }
       }
      }
     },
     "metadata": {},
     "output_type": "display_data"
    }
   ],
   "source": [
    "fig = px.histogram(df,x='Coupon_Percent',y='Market_Val_Percent',color='Year_Category',nbins=50,barmode='overlay')\n",
    "fig.show()"
   ]
  },
  {
   "cell_type": "code",
   "execution_count": null,
   "metadata": {},
   "outputs": [
    {
     "data": {
      "application/vnd.plotly.v1+json": {
       "config": {
        "plotlyServerURL": "https://plot.ly"
       },
       "data": [
        {
         "hovertemplate": "Maturity_Years_FromNow=%{x}<br>fraction of sum of Market_Val_Percent=%{y}<extra></extra>",
         "legendgroup": "",
         "line": {
          "dash": "solid",
          "shape": "hv"
         },
         "marker": {
          "color": "#636efa",
          "symbol": "circle"
         },
         "mode": "lines",
         "name": "",
         "orientation": "v",
         "showlegend": false,
         "type": "scatter",
         "x": [
          0.8870636550308009,
          0.971937029431896,
          0.971937029431896,
          1.0130047912388775,
          1.0130047912388775,
          1.0130047912388775,
          1.054072553045859,
          1.0978781656399725,
          1.0978781656399725,
          1.0978781656399725,
          1.1389459274469542,
          1.1827515400410678,
          1.1827515400410678,
          1.1827515400410678,
          1.2238193018480492,
          1.2238193018480492,
          1.2238193018480492,
          1.2594113620807665,
          1.2594113620807665,
          1.2594113620807665,
          1.3004791238877482,
          1.3442847364818618,
          1.3442847364818618,
          1.3442847364818618,
          1.3853524982888432,
          1.4264202600958247,
          1.4264202600958247,
          1.4264202600958247,
          1.4674880219028064,
          1.4674880219028064,
          1.51129363449692,
          1.51129363449692,
          1.51129363449692,
          1.5523613963039014,
          1.593429158110883,
          1.593429158110883,
          1.593429158110883,
          1.6344969199178645,
          1.678302532511978,
          1.678302532511978,
          1.678302532511978,
          1.7193702943189597,
          1.7193702943189597,
          1.7631759069130732,
          1.7631759069130732,
          1.7631759069130732,
          1.8042436687200547,
          1.8453114305270362,
          1.8453114305270362,
          1.8453114305270362,
          1.8863791923340179,
          1.9301848049281314,
          1.9301848049281314,
          1.9301848049281314,
          1.9712525667351128,
          1.9712525667351128,
          1.9712525667351128,
          2.0123203285420943,
          2.0123203285420943,
          2.0533880903490758,
          2.0971937029431897,
          2.0971937029431897,
          2.138261464750171,
          2.1820670773442847,
          2.223134839151266,
          2.223134839151266,
          2.223134839151266,
          2.2587268993839835,
          2.2587268993839835,
          2.299794661190965,
          2.3436002737850785,
          2.3436002737850785,
          2.3846680355920604,
          2.425735797399042,
          2.425735797399042,
          2.4668035592060233,
          2.4668035592060233,
          2.510609171800137,
          2.510609171800137,
          2.5516769336071183,
          2.5927446954141,
          2.5927446954141,
          2.6338124572210813,
          2.6776180698151952,
          2.6776180698151952,
          2.7186858316221767,
          2.7186858316221767,
          2.7186858316221767,
          2.7624914442162902,
          2.7624914442162902,
          2.8035592060232717,
          2.844626967830253,
          2.844626967830253,
          2.8856947296372346,
          2.9295003422313486,
          2.9295003422313486,
          2.97056810403833,
          2.97056810403833,
          3.0116358658453115,
          3.0116358658453115,
          3.0965092402464065,
          3.0965092402464065,
          3.1813826146475015,
          3.1813826146475015,
          3.2224503764544834,
          3.260780287474333,
          3.260780287474333,
          3.345653661875428,
          3.345653661875428,
          3.4277891854893907,
          3.4277891854893907,
          3.468856947296372,
          3.512662559890486,
          3.512662559890486,
          3.594798083504449,
          3.594798083504449,
          3.679671457905544,
          3.679671457905544,
          3.7207392197125255,
          3.7207392197125255,
          3.7645448323066395,
          3.7645448323066395,
          3.8466803559206024,
          3.8466803559206024,
          3.9315537303216974,
          3.9315537303216974,
          3.972621492128679,
          3.972621492128679,
          4.01368925393566,
          4.01368925393566,
          4.098562628336755,
          4.098562628336755,
          4.183436002737851,
          4.183436002737851,
          4.224503764544832,
          4.224503764544832,
          4.26009582477755,
          4.26009582477755,
          4.344969199178645,
          4.344969199178645,
          4.427104722792608,
          4.427104722792608,
          4.468172484599589,
          4.511978097193703,
          4.511978097193703,
          4.594113620807666,
          4.594113620807666,
          4.678986995208761,
          4.678986995208761,
          4.720054757015743,
          4.720054757015743,
          4.763860369609857,
          4.763860369609857,
          4.84599589322382,
          4.84599589322382,
          4.930869267624915,
          4.930869267624915,
          4.971937029431896,
          5.0130047912388775,
          5.0978781656399725,
          5.1827515400410675,
          5.223819301848049,
          5.259411362080766,
          5.344284736481861,
          5.426420260095825,
          5.467488021902806,
          5.467488021902806,
          5.51129363449692,
          5.593429158110883,
          5.678302532511978,
          5.71937029431896,
          5.763175906913073,
          5.845311430527036,
          5.930184804928132,
          5.971252566735113,
          6.012320328542095,
          6.09719370294319,
          6.182067077344285,
          6.223134839151267,
          6.223134839151267,
          6.2587268993839835,
          6.3436002737850785,
          6.425735797399041,
          6.466803559206023,
          6.510609171800137,
          6.5927446954141,
          6.677618069815195,
          6.718685831622176,
          6.76249144421629,
          6.844626967830253,
          6.929500342231348,
          6.97056810403833,
          7.222450376454483,
          7.468856947296373,
          7.7207392197125255,
          7.972621492128679,
          8.224503764544833,
          8.46817248459959,
          8.720054757015742,
          8.971937029431896,
          9.22381930184805,
          9.467488021902806,
          9.71937029431896,
          11.222450376454484,
          12.224503764544833,
          12.46817248459959,
          13.22381930184805,
          13.467488021902806,
          14.223134839151266,
          14.466803559206022,
          14.718685831622176,
          14.97056810403833,
          15.222450376454484,
          15.468856947296372,
          15.468856947296372,
          15.720739219712526,
          15.720739219712526,
          15.97262149212868,
          15.97262149212868,
          16.22450376454483,
          16.22450376454483,
          16.468172484599588,
          16.468172484599588,
          16.720054757015742,
          16.720054757015742,
          16.971937029431896,
          16.971937029431896,
          17.22381930184805,
          17.22381930184805,
          17.467488021902806,
          17.467488021902806,
          17.71937029431896,
          17.71937029431896,
          17.971252566735114,
          17.971252566735114,
          18.223134839151268,
          18.223134839151268,
          18.466803559206024,
          18.466803559206024,
          18.718685831622178,
          18.718685831622178,
          18.97056810403833,
          18.97056810403833,
          19.222450376454482,
          19.222450376454482,
          19.468856947296374,
          19.468856947296374,
          19.720739219712527,
          19.720739219712527,
          19.972621492128678,
          20.22450376454483,
          20.468172484599588,
          20.720054757015742,
          20.971937029431896,
          21.22381930184805,
          21.467488021902806,
          21.71937029431896,
          21.971252566735114,
          22.223134839151268,
          22.466803559206024,
          22.718685831622178,
          22.97056810403833,
          23.222450376454482,
          23.468856947296374,
          23.720739219712527,
          23.972621492128678,
          24.22450376454483,
          24.468172484599588,
          24.720054757015742,
          24.971937029431896,
          25.22381930184805,
          25.467488021902806,
          25.71937029431896,
          25.971252566735114,
          26.223134839151268,
          26.466803559206024,
          26.718685831622178,
          26.97056810403833,
          27.222450376454482,
          27.468856947296374,
          27.720739219712527,
          27.972621492128678,
          28.22450376454483,
          28.468172484599588,
          28.720054757015742,
          28.971937029431896,
          29.22381930184805,
          29.467488021902806,
          29.71937029431896
         ],
         "xaxis": "x",
         "y": [
          0.0001141640163102998,
          0.005021196115594603,
          0.006297206315593794,
          0.010978941285345382,
          0.015283833971170049,
          0.01713975696198439,
          0.020282803464120168,
          0.024683674747727834,
          0.02869558013505704,
          0.03028680425619618,
          0.0330408848620535,
          0.03710431560187674,
          0.04061612197970508,
          0.04248113767978307,
          0.04256196176212665,
          0.04483210817495182,
          0.0493622979903092,
          0.05481489264541264,
          0.06030890964271715,
          0.06320847359679291,
          0.06612521266836668,
          0.07152224076685891,
          0.0760332348626597,
          0.07863577031412282,
          0.08221021535576742,
          0.09009763549147105,
          0.09605740126328041,
          0.09883269819075292,
          0.10196261077950786,
          0.10590480539581573,
          0.11062392150365123,
          0.1164301215190078,
          0.11810823152866629,
          0.12112499040214023,
          0.12208679698202878,
          0.12625832993198655,
          0.13183418131266392,
          0.1350509797899382,
          0.1394164905375206,
          0.14487918820291695,
          0.14716549943221083,
          0.1500246513451148,
          0.15395573265010043,
          0.1587718376567482,
          0.1613006211330728,
          0.16569341000844612,
          0.1688960642713103,
          0.16974067593180064,
          0.1738394672076492,
          0.18075093654905416,
          0.18472546079829946,
          0.1869622672771579,
          0.1915096322100133,
          0.19658538458118982,
          0.19659649789251207,
          0.19977086372655598,
          0.20305232146970512,
          0.20504362479844496,
          0.20939196042852928,
          0.21289871530121116,
          0.21435860028854198,
          0.21824825925132654,
          0.22195909493192595,
          0.22753292571054473,
          0.2275369669146619,
          0.23143167738259293,
          0.23563452966445886,
          0.24025766717451133,
          0.24192567417387686,
          0.24605780538369212,
          0.24830168396975563,
          0.2520165608544722,
          0.25637702009690805,
          0.25992822821487893,
          0.26326020100949277,
          0.26832382976831776,
          0.2726731756994314,
          0.2765163608148684,
          0.2796735515314143,
          0.28394813518636014,
          0.2874488282528662,
          0.29003519888786067,
          0.29480381974613157,
          0.2984570682680612,
          0.3014132090797774,
          0.3014334151003633,
          0.3054099599516672,
          0.3092713304856315,
          0.31210421457177384,
          0.3151017777256912,
          0.3189176847133372,
          0.32215873041531456,
          0.3248117809182424,
          0.32766487102497066,
          0.3308998549207723,
          0.3353835708887821,
          0.3353835708887821,
          0.3386670492339899,
          0.34190708463493796,
          0.3452855312768994,
          0.3497864223624073,
          0.35306181829938066,
          0.3562119369087215,
          0.36116443255432407,
          0.36631999870681486,
          0.3695640753118801,
          0.3746580131015839,
          0.37882853575051234,
          0.38202411790617147,
          0.38517625711757086,
          0.39238980646673494,
          0.3979444415257971,
          0.4017098334619784,
          0.40638752722761284,
          0.41109654032515536,
          0.41429818428699017,
          0.4193890911736061,
          0.42286149581129195,
          0.42286452671437985,
          0.42787056831453507,
          0.43296551640526815,
          0.43634295274620033,
          0.4400750047484149,
          0.4447496676109614,
          0.44884744858578063,
          0.45283813765149467,
          0.4575491713510958,
          0.4581694961830827,
          0.46244003863391137,
          0.4666479424209237,
          0.47055477650120625,
          0.474962719892019,
          0.47969496991323535,
          0.4837584006530586,
          0.4884552901382496,
          0.48846539314854254,
          0.4935007334785472,
          0.4973560422063358,
          0.5026490092988106,
          0.5062386088558947,
          0.5118629546859782,
          0.5156707792653898,
          0.5193149350780558,
          0.5246998395641965,
          0.5281671926967358,
          0.5337511264856476,
          0.5370123782082109,
          0.540033178285802,
          0.5455787206356006,
          0.5486237679378948,
          0.5492077219328272,
          0.5522083159898323,
          0.5577629510488945,
          0.5606372574772379,
          0.5661646144085092,
          0.5690328590306768,
          0.5747127714173715,
          0.5765353544742191,
          0.5789600769445263,
          0.5813211504499881,
          0.584070179550699,
          0.5882184755769829,
          0.590971545881811,
          0.5936761217372328,
          0.5964989028130823,
          0.6030901067282007,
          0.6038629870156113,
          0.6065837276875019,
          0.6096984857608174,
          0.6124737826882899,
          0.6195266941737961,
          0.6224151448165496,
          0.625543036803246,
          0.6286860833053818,
          0.6355662333148786,
          0.6387466609550982,
          0.6419099134778199,
          0.6452075360374377,
          0.6519512954079799,
          0.6523473334114633,
          0.6558076144367977,
          0.6594063067031454,
          0.6630575346230164,
          0.6703640316668756,
          0.674016269887776,
          0.6776109209500065,
          0.6811732423792995,
          0.6888171799669432,
          0.6922895846046291,
          0.6957589583392271,
          0.6979725278944117,
          0.705543723807946,
          0.7128997256022406,
          0.7205406322867963,
          0.7278713765553586,
          0.736073000311173,
          0.7437603808430763,
          0.7514416995688038,
          0.7605717899705399,
          0.7705313375173269,
          0.7805979769732191,
          0.7905969262601487,
          0.7995229358539672,
          0.7997916759277596,
          0.800087694129343,
          0.8005130308626761,
          0.8009181615754233,
          0.801517270085795,
          0.801784999858558,
          0.802429571915248,
          0.8034469450517479,
          0.8044269370501637,
          0.8054453204876927,
          0.8075275509090691,
          0.8084499557488153,
          0.8093491236648875,
          0.8117314134919643,
          0.8126275505049487,
          0.815699875935034,
          0.8167051254591823,
          0.8209241425575168,
          0.8244975772981321,
          0.8252694472845133,
          0.8295985871950411,
          0.8303027670124594,
          0.8309715862938525,
          0.8350885629882283,
          0.83598874120533,
          0.8395995570840291,
          0.8426314704729425,
          0.8434376906943197,
          0.8444580947339073,
          0.8472485461768193,
          0.8500198019001746,
          0.851402904009279,
          0.8543145915757063,
          0.8556795082662834,
          0.8585699795110955,
          0.8605016750791069,
          0.8638538538943067,
          0.8654743767452954,
          0.8671989606023014,
          0.8705066861722122,
          0.8737194434453692,
          0.8754157388735551,
          0.8767533774363413,
          0.8800257424702267,
          0.8818695418486895,
          0.8850752270146416,
          0.8866179566863746,
          0.8883970967989626,
          0.88931748103665,
          0.8905621719047411,
          0.8912835268396574,
          0.8927029997858165,
          0.8941982453091726,
          0.8959733442176434,
          0.8967492554081418,
          0.8985486015413157,
          0.8999054358236583,
          0.9018391519937284,
          0.9037223531123337,
          0.9060440248776529,
          0.9086950547785222,
          0.9114178160524713,
          0.9146265321215112,
          0.9177837228380571,
          0.9206782352869864,
          0.9230372881903897,
          0.9253094552052734,
          0.9277735794157231,
          0.9300901996758958,
          0.9328412493786653,
          0.9357741532667078,
          0.9393001038589462,
          0.943358483093623,
          0.9470006183042304,
          0.9503043026700241,
          0.9537746867056514,
          0.95740065709979,
          0.9609599476259952,
          0.965175933821242,
          0.9692292615507723,
          0.9732866304844198,
          0.9781825492723818,
          0.9837291019232097,
          0.989119057914497,
          0.9948525162557442,
          1.0000000000000007
         ],
         "yaxis": "y"
        },
        {
         "alignmentgroup": "True",
         "bingroup": "x",
         "hovertemplate": "Maturity_Years_FromNow=%{x}<br>count=%{y}<extra></extra>",
         "legendgroup": "",
         "marker": {
          "color": "#636efa"
         },
         "name": "",
         "offsetgroup": "",
         "opacity": 0.5,
         "showlegend": false,
         "type": "histogram",
         "x": [
          0.8870636550308009,
          0.971937029431896,
          0.971937029431896,
          1.0130047912388775,
          1.0130047912388775,
          1.0130047912388775,
          1.054072553045859,
          1.0978781656399725,
          1.0978781656399725,
          1.0978781656399725,
          1.1389459274469542,
          1.1827515400410678,
          1.1827515400410678,
          1.1827515400410678,
          1.2238193018480492,
          1.2238193018480492,
          1.2238193018480492,
          1.2594113620807665,
          1.2594113620807665,
          1.2594113620807665,
          1.3004791238877482,
          1.3442847364818618,
          1.3442847364818618,
          1.3442847364818618,
          1.3853524982888432,
          1.4264202600958247,
          1.4264202600958247,
          1.4264202600958247,
          1.4674880219028064,
          1.4674880219028064,
          1.51129363449692,
          1.51129363449692,
          1.51129363449692,
          1.5523613963039014,
          1.593429158110883,
          1.593429158110883,
          1.593429158110883,
          1.6344969199178645,
          1.678302532511978,
          1.678302532511978,
          1.678302532511978,
          1.7193702943189597,
          1.7193702943189597,
          1.7631759069130732,
          1.7631759069130732,
          1.7631759069130732,
          1.8042436687200547,
          1.8453114305270362,
          1.8453114305270362,
          1.8453114305270362,
          1.8863791923340179,
          1.9301848049281314,
          1.9301848049281314,
          1.9301848049281314,
          1.9712525667351128,
          1.9712525667351128,
          1.9712525667351128,
          2.0123203285420943,
          2.0123203285420943,
          2.0533880903490758,
          2.0971937029431897,
          2.0971937029431897,
          2.138261464750171,
          2.1820670773442847,
          2.223134839151266,
          2.223134839151266,
          2.223134839151266,
          2.2587268993839835,
          2.2587268993839835,
          2.299794661190965,
          2.3436002737850785,
          2.3436002737850785,
          2.3846680355920604,
          2.425735797399042,
          2.425735797399042,
          2.4668035592060233,
          2.4668035592060233,
          2.510609171800137,
          2.510609171800137,
          2.5516769336071183,
          2.5927446954141,
          2.5927446954141,
          2.6338124572210813,
          2.6776180698151952,
          2.6776180698151952,
          2.7186858316221767,
          2.7186858316221767,
          2.7186858316221767,
          2.7624914442162902,
          2.7624914442162902,
          2.8035592060232717,
          2.844626967830253,
          2.844626967830253,
          2.8856947296372346,
          2.9295003422313486,
          2.9295003422313486,
          2.97056810403833,
          2.97056810403833,
          3.0116358658453115,
          3.0116358658453115,
          3.0965092402464065,
          3.0965092402464065,
          3.1813826146475015,
          3.1813826146475015,
          3.2224503764544834,
          3.260780287474333,
          3.260780287474333,
          3.345653661875428,
          3.345653661875428,
          3.4277891854893907,
          3.4277891854893907,
          3.468856947296372,
          3.512662559890486,
          3.512662559890486,
          3.594798083504449,
          3.594798083504449,
          3.679671457905544,
          3.679671457905544,
          3.7207392197125255,
          3.7207392197125255,
          3.7645448323066395,
          3.7645448323066395,
          3.8466803559206024,
          3.8466803559206024,
          3.9315537303216974,
          3.9315537303216974,
          3.972621492128679,
          3.972621492128679,
          4.01368925393566,
          4.01368925393566,
          4.098562628336755,
          4.098562628336755,
          4.183436002737851,
          4.183436002737851,
          4.224503764544832,
          4.224503764544832,
          4.26009582477755,
          4.26009582477755,
          4.344969199178645,
          4.344969199178645,
          4.427104722792608,
          4.427104722792608,
          4.468172484599589,
          4.511978097193703,
          4.511978097193703,
          4.594113620807666,
          4.594113620807666,
          4.678986995208761,
          4.678986995208761,
          4.720054757015743,
          4.720054757015743,
          4.763860369609857,
          4.763860369609857,
          4.84599589322382,
          4.84599589322382,
          4.930869267624915,
          4.930869267624915,
          4.971937029431896,
          5.0130047912388775,
          5.0978781656399725,
          5.1827515400410675,
          5.223819301848049,
          5.259411362080766,
          5.344284736481861,
          5.426420260095825,
          5.467488021902806,
          5.467488021902806,
          5.51129363449692,
          5.593429158110883,
          5.678302532511978,
          5.71937029431896,
          5.763175906913073,
          5.845311430527036,
          5.930184804928132,
          5.971252566735113,
          6.012320328542095,
          6.09719370294319,
          6.182067077344285,
          6.223134839151267,
          6.223134839151267,
          6.2587268993839835,
          6.3436002737850785,
          6.425735797399041,
          6.466803559206023,
          6.510609171800137,
          6.5927446954141,
          6.677618069815195,
          6.718685831622176,
          6.76249144421629,
          6.844626967830253,
          6.929500342231348,
          6.97056810403833,
          7.222450376454483,
          7.468856947296373,
          7.7207392197125255,
          7.972621492128679,
          8.224503764544833,
          8.46817248459959,
          8.720054757015742,
          8.971937029431896,
          9.22381930184805,
          9.467488021902806,
          9.71937029431896,
          11.222450376454484,
          12.224503764544833,
          12.46817248459959,
          13.22381930184805,
          13.467488021902806,
          14.223134839151266,
          14.466803559206022,
          14.718685831622176,
          14.97056810403833,
          15.222450376454484,
          15.468856947296372,
          15.468856947296372,
          15.720739219712526,
          15.720739219712526,
          15.97262149212868,
          15.97262149212868,
          16.22450376454483,
          16.22450376454483,
          16.468172484599588,
          16.468172484599588,
          16.720054757015742,
          16.720054757015742,
          16.971937029431896,
          16.971937029431896,
          17.22381930184805,
          17.22381930184805,
          17.467488021902806,
          17.467488021902806,
          17.71937029431896,
          17.71937029431896,
          17.971252566735114,
          17.971252566735114,
          18.223134839151268,
          18.223134839151268,
          18.466803559206024,
          18.466803559206024,
          18.718685831622178,
          18.718685831622178,
          18.97056810403833,
          18.97056810403833,
          19.222450376454482,
          19.222450376454482,
          19.468856947296374,
          19.468856947296374,
          19.720739219712527,
          19.720739219712527,
          19.972621492128678,
          20.22450376454483,
          20.468172484599588,
          20.720054757015742,
          20.971937029431896,
          21.22381930184805,
          21.467488021902806,
          21.71937029431896,
          21.971252566735114,
          22.223134839151268,
          22.466803559206024,
          22.718685831622178,
          22.97056810403833,
          23.222450376454482,
          23.468856947296374,
          23.720739219712527,
          23.972621492128678,
          24.22450376454483,
          24.468172484599588,
          24.720054757015742,
          24.971937029431896,
          25.22381930184805,
          25.467488021902806,
          25.71937029431896,
          25.971252566735114,
          26.223134839151268,
          26.466803559206024,
          26.718685831622178,
          26.97056810403833,
          27.222450376454482,
          27.468856947296374,
          27.720739219712527,
          27.972621492128678,
          28.22450376454483,
          28.468172484599588,
          28.720054757015742,
          28.971937029431896,
          29.22381930184805,
          29.467488021902806,
          29.71937029431896
         ],
         "xaxis": "x2",
         "yaxis": "y2"
        }
       ],
       "layout": {
        "barmode": "overlay",
        "legend": {
         "tracegroupgap": 0
        },
        "margin": {
         "t": 60
        },
        "template": {
         "data": {
          "bar": [
           {
            "error_x": {
             "color": "#2a3f5f"
            },
            "error_y": {
             "color": "#2a3f5f"
            },
            "marker": {
             "line": {
              "color": "#E5ECF6",
              "width": 0.5
             },
             "pattern": {
              "fillmode": "overlay",
              "size": 10,
              "solidity": 0.2
             }
            },
            "type": "bar"
           }
          ],
          "barpolar": [
           {
            "marker": {
             "line": {
              "color": "#E5ECF6",
              "width": 0.5
             },
             "pattern": {
              "fillmode": "overlay",
              "size": 10,
              "solidity": 0.2
             }
            },
            "type": "barpolar"
           }
          ],
          "carpet": [
           {
            "aaxis": {
             "endlinecolor": "#2a3f5f",
             "gridcolor": "white",
             "linecolor": "white",
             "minorgridcolor": "white",
             "startlinecolor": "#2a3f5f"
            },
            "baxis": {
             "endlinecolor": "#2a3f5f",
             "gridcolor": "white",
             "linecolor": "white",
             "minorgridcolor": "white",
             "startlinecolor": "#2a3f5f"
            },
            "type": "carpet"
           }
          ],
          "choropleth": [
           {
            "colorbar": {
             "outlinewidth": 0,
             "ticks": ""
            },
            "type": "choropleth"
           }
          ],
          "contour": [
           {
            "colorbar": {
             "outlinewidth": 0,
             "ticks": ""
            },
            "colorscale": [
             [
              0,
              "#0d0887"
             ],
             [
              0.1111111111111111,
              "#46039f"
             ],
             [
              0.2222222222222222,
              "#7201a8"
             ],
             [
              0.3333333333333333,
              "#9c179e"
             ],
             [
              0.4444444444444444,
              "#bd3786"
             ],
             [
              0.5555555555555556,
              "#d8576b"
             ],
             [
              0.6666666666666666,
              "#ed7953"
             ],
             [
              0.7777777777777778,
              "#fb9f3a"
             ],
             [
              0.8888888888888888,
              "#fdca26"
             ],
             [
              1,
              "#f0f921"
             ]
            ],
            "type": "contour"
           }
          ],
          "contourcarpet": [
           {
            "colorbar": {
             "outlinewidth": 0,
             "ticks": ""
            },
            "type": "contourcarpet"
           }
          ],
          "heatmap": [
           {
            "colorbar": {
             "outlinewidth": 0,
             "ticks": ""
            },
            "colorscale": [
             [
              0,
              "#0d0887"
             ],
             [
              0.1111111111111111,
              "#46039f"
             ],
             [
              0.2222222222222222,
              "#7201a8"
             ],
             [
              0.3333333333333333,
              "#9c179e"
             ],
             [
              0.4444444444444444,
              "#bd3786"
             ],
             [
              0.5555555555555556,
              "#d8576b"
             ],
             [
              0.6666666666666666,
              "#ed7953"
             ],
             [
              0.7777777777777778,
              "#fb9f3a"
             ],
             [
              0.8888888888888888,
              "#fdca26"
             ],
             [
              1,
              "#f0f921"
             ]
            ],
            "type": "heatmap"
           }
          ],
          "heatmapgl": [
           {
            "colorbar": {
             "outlinewidth": 0,
             "ticks": ""
            },
            "colorscale": [
             [
              0,
              "#0d0887"
             ],
             [
              0.1111111111111111,
              "#46039f"
             ],
             [
              0.2222222222222222,
              "#7201a8"
             ],
             [
              0.3333333333333333,
              "#9c179e"
             ],
             [
              0.4444444444444444,
              "#bd3786"
             ],
             [
              0.5555555555555556,
              "#d8576b"
             ],
             [
              0.6666666666666666,
              "#ed7953"
             ],
             [
              0.7777777777777778,
              "#fb9f3a"
             ],
             [
              0.8888888888888888,
              "#fdca26"
             ],
             [
              1,
              "#f0f921"
             ]
            ],
            "type": "heatmapgl"
           }
          ],
          "histogram": [
           {
            "marker": {
             "pattern": {
              "fillmode": "overlay",
              "size": 10,
              "solidity": 0.2
             }
            },
            "type": "histogram"
           }
          ],
          "histogram2d": [
           {
            "colorbar": {
             "outlinewidth": 0,
             "ticks": ""
            },
            "colorscale": [
             [
              0,
              "#0d0887"
             ],
             [
              0.1111111111111111,
              "#46039f"
             ],
             [
              0.2222222222222222,
              "#7201a8"
             ],
             [
              0.3333333333333333,
              "#9c179e"
             ],
             [
              0.4444444444444444,
              "#bd3786"
             ],
             [
              0.5555555555555556,
              "#d8576b"
             ],
             [
              0.6666666666666666,
              "#ed7953"
             ],
             [
              0.7777777777777778,
              "#fb9f3a"
             ],
             [
              0.8888888888888888,
              "#fdca26"
             ],
             [
              1,
              "#f0f921"
             ]
            ],
            "type": "histogram2d"
           }
          ],
          "histogram2dcontour": [
           {
            "colorbar": {
             "outlinewidth": 0,
             "ticks": ""
            },
            "colorscale": [
             [
              0,
              "#0d0887"
             ],
             [
              0.1111111111111111,
              "#46039f"
             ],
             [
              0.2222222222222222,
              "#7201a8"
             ],
             [
              0.3333333333333333,
              "#9c179e"
             ],
             [
              0.4444444444444444,
              "#bd3786"
             ],
             [
              0.5555555555555556,
              "#d8576b"
             ],
             [
              0.6666666666666666,
              "#ed7953"
             ],
             [
              0.7777777777777778,
              "#fb9f3a"
             ],
             [
              0.8888888888888888,
              "#fdca26"
             ],
             [
              1,
              "#f0f921"
             ]
            ],
            "type": "histogram2dcontour"
           }
          ],
          "mesh3d": [
           {
            "colorbar": {
             "outlinewidth": 0,
             "ticks": ""
            },
            "type": "mesh3d"
           }
          ],
          "parcoords": [
           {
            "line": {
             "colorbar": {
              "outlinewidth": 0,
              "ticks": ""
             }
            },
            "type": "parcoords"
           }
          ],
          "pie": [
           {
            "automargin": true,
            "type": "pie"
           }
          ],
          "scatter": [
           {
            "fillpattern": {
             "fillmode": "overlay",
             "size": 10,
             "solidity": 0.2
            },
            "type": "scatter"
           }
          ],
          "scatter3d": [
           {
            "line": {
             "colorbar": {
              "outlinewidth": 0,
              "ticks": ""
             }
            },
            "marker": {
             "colorbar": {
              "outlinewidth": 0,
              "ticks": ""
             }
            },
            "type": "scatter3d"
           }
          ],
          "scattercarpet": [
           {
            "marker": {
             "colorbar": {
              "outlinewidth": 0,
              "ticks": ""
             }
            },
            "type": "scattercarpet"
           }
          ],
          "scattergeo": [
           {
            "marker": {
             "colorbar": {
              "outlinewidth": 0,
              "ticks": ""
             }
            },
            "type": "scattergeo"
           }
          ],
          "scattergl": [
           {
            "marker": {
             "colorbar": {
              "outlinewidth": 0,
              "ticks": ""
             }
            },
            "type": "scattergl"
           }
          ],
          "scattermapbox": [
           {
            "marker": {
             "colorbar": {
              "outlinewidth": 0,
              "ticks": ""
             }
            },
            "type": "scattermapbox"
           }
          ],
          "scatterpolar": [
           {
            "marker": {
             "colorbar": {
              "outlinewidth": 0,
              "ticks": ""
             }
            },
            "type": "scatterpolar"
           }
          ],
          "scatterpolargl": [
           {
            "marker": {
             "colorbar": {
              "outlinewidth": 0,
              "ticks": ""
             }
            },
            "type": "scatterpolargl"
           }
          ],
          "scatterternary": [
           {
            "marker": {
             "colorbar": {
              "outlinewidth": 0,
              "ticks": ""
             }
            },
            "type": "scatterternary"
           }
          ],
          "surface": [
           {
            "colorbar": {
             "outlinewidth": 0,
             "ticks": ""
            },
            "colorscale": [
             [
              0,
              "#0d0887"
             ],
             [
              0.1111111111111111,
              "#46039f"
             ],
             [
              0.2222222222222222,
              "#7201a8"
             ],
             [
              0.3333333333333333,
              "#9c179e"
             ],
             [
              0.4444444444444444,
              "#bd3786"
             ],
             [
              0.5555555555555556,
              "#d8576b"
             ],
             [
              0.6666666666666666,
              "#ed7953"
             ],
             [
              0.7777777777777778,
              "#fb9f3a"
             ],
             [
              0.8888888888888888,
              "#fdca26"
             ],
             [
              1,
              "#f0f921"
             ]
            ],
            "type": "surface"
           }
          ],
          "table": [
           {
            "cells": {
             "fill": {
              "color": "#EBF0F8"
             },
             "line": {
              "color": "white"
             }
            },
            "header": {
             "fill": {
              "color": "#C8D4E3"
             },
             "line": {
              "color": "white"
             }
            },
            "type": "table"
           }
          ]
         },
         "layout": {
          "annotationdefaults": {
           "arrowcolor": "#2a3f5f",
           "arrowhead": 0,
           "arrowwidth": 1
          },
          "autotypenumbers": "strict",
          "coloraxis": {
           "colorbar": {
            "outlinewidth": 0,
            "ticks": ""
           }
          },
          "colorscale": {
           "diverging": [
            [
             0,
             "#8e0152"
            ],
            [
             0.1,
             "#c51b7d"
            ],
            [
             0.2,
             "#de77ae"
            ],
            [
             0.3,
             "#f1b6da"
            ],
            [
             0.4,
             "#fde0ef"
            ],
            [
             0.5,
             "#f7f7f7"
            ],
            [
             0.6,
             "#e6f5d0"
            ],
            [
             0.7,
             "#b8e186"
            ],
            [
             0.8,
             "#7fbc41"
            ],
            [
             0.9,
             "#4d9221"
            ],
            [
             1,
             "#276419"
            ]
           ],
           "sequential": [
            [
             0,
             "#0d0887"
            ],
            [
             0.1111111111111111,
             "#46039f"
            ],
            [
             0.2222222222222222,
             "#7201a8"
            ],
            [
             0.3333333333333333,
             "#9c179e"
            ],
            [
             0.4444444444444444,
             "#bd3786"
            ],
            [
             0.5555555555555556,
             "#d8576b"
            ],
            [
             0.6666666666666666,
             "#ed7953"
            ],
            [
             0.7777777777777778,
             "#fb9f3a"
            ],
            [
             0.8888888888888888,
             "#fdca26"
            ],
            [
             1,
             "#f0f921"
            ]
           ],
           "sequentialminus": [
            [
             0,
             "#0d0887"
            ],
            [
             0.1111111111111111,
             "#46039f"
            ],
            [
             0.2222222222222222,
             "#7201a8"
            ],
            [
             0.3333333333333333,
             "#9c179e"
            ],
            [
             0.4444444444444444,
             "#bd3786"
            ],
            [
             0.5555555555555556,
             "#d8576b"
            ],
            [
             0.6666666666666666,
             "#ed7953"
            ],
            [
             0.7777777777777778,
             "#fb9f3a"
            ],
            [
             0.8888888888888888,
             "#fdca26"
            ],
            [
             1,
             "#f0f921"
            ]
           ]
          },
          "colorway": [
           "#636efa",
           "#EF553B",
           "#00cc96",
           "#ab63fa",
           "#FFA15A",
           "#19d3f3",
           "#FF6692",
           "#B6E880",
           "#FF97FF",
           "#FECB52"
          ],
          "font": {
           "color": "#2a3f5f"
          },
          "geo": {
           "bgcolor": "white",
           "lakecolor": "white",
           "landcolor": "#E5ECF6",
           "showlakes": true,
           "showland": true,
           "subunitcolor": "white"
          },
          "hoverlabel": {
           "align": "left"
          },
          "hovermode": "closest",
          "mapbox": {
           "style": "light"
          },
          "paper_bgcolor": "white",
          "plot_bgcolor": "#E5ECF6",
          "polar": {
           "angularaxis": {
            "gridcolor": "white",
            "linecolor": "white",
            "ticks": ""
           },
           "bgcolor": "#E5ECF6",
           "radialaxis": {
            "gridcolor": "white",
            "linecolor": "white",
            "ticks": ""
           }
          },
          "scene": {
           "xaxis": {
            "backgroundcolor": "#E5ECF6",
            "gridcolor": "white",
            "gridwidth": 2,
            "linecolor": "white",
            "showbackground": true,
            "ticks": "",
            "zerolinecolor": "white"
           },
           "yaxis": {
            "backgroundcolor": "#E5ECF6",
            "gridcolor": "white",
            "gridwidth": 2,
            "linecolor": "white",
            "showbackground": true,
            "ticks": "",
            "zerolinecolor": "white"
           },
           "zaxis": {
            "backgroundcolor": "#E5ECF6",
            "gridcolor": "white",
            "gridwidth": 2,
            "linecolor": "white",
            "showbackground": true,
            "ticks": "",
            "zerolinecolor": "white"
           }
          },
          "shapedefaults": {
           "line": {
            "color": "#2a3f5f"
           }
          },
          "ternary": {
           "aaxis": {
            "gridcolor": "white",
            "linecolor": "white",
            "ticks": ""
           },
           "baxis": {
            "gridcolor": "white",
            "linecolor": "white",
            "ticks": ""
           },
           "bgcolor": "#E5ECF6",
           "caxis": {
            "gridcolor": "white",
            "linecolor": "white",
            "ticks": ""
           }
          },
          "title": {
           "x": 0.05
          },
          "xaxis": {
           "automargin": true,
           "gridcolor": "white",
           "linecolor": "white",
           "ticks": "",
           "title": {
            "standoff": 15
           },
           "zerolinecolor": "white",
           "zerolinewidth": 2
          },
          "yaxis": {
           "automargin": true,
           "gridcolor": "white",
           "linecolor": "white",
           "ticks": "",
           "title": {
            "standoff": 15
           },
           "zerolinecolor": "white",
           "zerolinewidth": 2
          }
         }
        },
        "xaxis": {
         "anchor": "y",
         "domain": [
          0,
          1
         ],
         "title": {
          "text": "Maturity_Years_FromNow"
         }
        },
        "xaxis2": {
         "anchor": "y2",
         "domain": [
          0,
          1
         ],
         "matches": "x",
         "showgrid": true,
         "showticklabels": false
        },
        "yaxis": {
         "anchor": "x",
         "domain": [
          0,
          0.7326
         ],
         "title": {
          "text": "fraction of sum of Market_Val_Percent"
         }
        },
        "yaxis2": {
         "anchor": "x2",
         "domain": [
          0.7426,
          1
         ],
         "matches": "y2",
         "showgrid": true,
         "showline": false,
         "showticklabels": false,
         "ticks": ""
        }
       }
      }
     },
     "metadata": {},
     "output_type": "display_data"
    }
   ],
   "source": [
    "fig = px.ecdf(df,x='Maturity_Years_FromNow',y='Market_Val_Percent',marginal='histogram')\n",
    "fig.show()"
   ]
  },
  {
   "cell_type": "code",
   "execution_count": null,
   "metadata": {},
   "outputs": [
    {
     "data": {
      "text/plain": [
       "2.948627596978796"
      ]
     },
     "execution_count": 7,
     "metadata": {},
     "output_type": "execute_result"
    }
   ],
   "source": [
    "# Mean\n",
    "\n",
    "df2 = df[df['Coupon_Percent']>0]\n",
    "sum((df2['Market_Val_Percent']/sum(df2['Market_Val_Percent']))*df2['Coupon_Percent'])"
   ]
  },
  {
   "cell_type": "code",
   "execution_count": null,
   "metadata": {},
   "outputs": [
    {
     "data": {
      "text/plain": [
       "array([3.25])"
      ]
     },
     "execution_count": 8,
     "metadata": {},
     "output_type": "execute_result"
    }
   ],
   "source": [
    "# Median\n",
    "\n",
    "weighted_quantile(df['Coupon_Percent'],quantiles=[0.5],sample_weight=df['Market_Val_Percent'])"
   ]
  }
 ],
 "metadata": {
  "kernelspec": {
   "display_name": "base",
   "language": "python",
   "name": "python3"
  },
  "language_info": {
   "codemirror_mode": {
    "name": "ipython",
    "version": 3
   },
   "file_extension": ".py",
   "mimetype": "text/x-python",
   "name": "python",
   "nbconvert_exporter": "python",
   "pygments_lexer": "ipython3",
   "version": "3.12.7"
  }
 },
 "nbformat": 4,
 "nbformat_minor": 2
}
